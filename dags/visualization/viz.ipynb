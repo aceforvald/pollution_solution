{
 "cells": [
  {
   "cell_type": "code",
   "execution_count": 1,
   "metadata": {},
   "outputs": [],
   "source": [
    "from flask import Flask, render_template_string\n",
    "import folium\n",
    "from folium import FeatureGroup, LayerControl\n",
    "import pandas as pd\n",
    "import os\n",
    "\n"
   ]
  },
  {
   "cell_type": "code",
   "execution_count": 6,
   "metadata": {},
   "outputs": [],
   "source": [
    "\n",
    "# data file\n",
    "# cwd = os.path.dirname(os.path.realpath(__file__)) # for .py file\n",
    "cwd = os.path.abspath('') # for .ipynb file\n",
    "data_directory = os.path.join(cwd, '../data')\n",
    "try:\n",
    "    os.makedirs(data_directory, exist_ok=True)\n",
    "except Exception as e:\n",
    "    print(e)\n",
    "\n",
    "try:\n",
    "    file_name = os.path.join(data_directory, 'sensor_data_all.csv')\n",
    "    df = pd.read_csv(file_name)\n",
    "except Exception as e:\n",
    "    print(e)"
   ]
  },
  {
   "cell_type": "code",
   "execution_count": null,
   "metadata": {},
   "outputs": [],
   "source": [
    "# Create a base map\n",
    "madrid_map = folium.Map(location=[40.416775, -3.703790], zoom_start=4)  # Centered on Madrid\n",
    "\n",
    "\n",
    "#economics_layer = FeatureGroup(name=\"Economics Data\").add_to(madrid_map)\n",
    "#pm25_layer = FeatureGroup(name=\"PM2.5\").add_to(madrid_map)\n",
    "#pm10_layer = FeatureGroup(name=\"PM10\").add_to(madrid_map)\n",
    "#so2_layer = FeatureGroup(name=\"SO2\").add_to(madrid_map)\n",
    "#no_layer = FeatureGroup(name=\"NO\").add_to(madrid_map)\n",
    "#o3_layer = FeatureGroup(name=\"O3\").add_to(madrid_map)\n",
    "\n",
    "\n",
    "# Add markers for each location\n",
    "for index, row in df.iterrows():\n",
    "    popup_text = (f\"<b>Location:</b> {row['location']}<br>\"\n",
    "                  f\"<b>PM2.5:</b> {row['pm25']} µg/m³<br>\"\n",
    "                  f\"<b>PM10:</b> {row['pm10']} µg/m³<br>\"\n",
    "                  f\"<b>SO2:</b> {row['so2']} µg/m³<br>\"\n",
    "                  f\"<b>NO:</b> {row['no']} µg/m³<br>\"\n",
    "                  f\"<b>O3:</b> {row['o3']} µg/m³<br>\")\n",
    "    \n",
    "\n",
    "    if pd.isna(row['pm25']):\n",
    "         color = \"yellow\"\n",
    "\n",
    "    elif row['pm25'] < 6:\n",
    "         color = \"green\"\n",
    "    elif 12 <= row['pm25'] <= 14:\n",
    "        color = \"lightgreen\"\n",
    "    else:\n",
    "        color = \"red\"\n",
    "\n",
    "    folium.CircleMarker(\n",
    "        location=[row['lat'], row['lon']],\n",
    "        radius=5,\n",
    "        popup=folium.Popup(popup_text, max_width=250),\n",
    "        tooltip=folium.Tooltip(f\"{row['location']}\"), \n",
    "        color=color,\n",
    "        fill=True,\n",
    "        fill_opacity=0.7\n",
    "    ).add_to(madrid_map)    \n",
    "\n",
    "\n",
    "# Add the fixed legend to the map\n",
    "\n",
    "#LayerControl().add_to(madrid_map)\n",
    "# Display the map\n",
    "madrid_map"
   ]
  }
 ],
 "metadata": {
  "kernelspec": {
   "display_name": "ps_venv",
   "language": "python",
   "name": "python3"
  },
  "language_info": {
   "codemirror_mode": {
    "name": "ipython",
    "version": 3
   },
   "file_extension": ".py",
   "mimetype": "text/x-python",
   "name": "python",
   "nbconvert_exporter": "python",
   "pygments_lexer": "ipython3",
   "version": "3.12.4"
  }
 },
 "nbformat": 4,
 "nbformat_minor": 2
}
